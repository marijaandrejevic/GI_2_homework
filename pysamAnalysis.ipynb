{
 "cells": [
  {
   "cell_type": "code",
   "execution_count": 1,
   "metadata": {},
   "outputs": [
    {
     "name": "stdout",
     "output_type": "stream",
     "text": [
      "Collecting pysam\n",
      "  Downloading pysam-0.16.0.1-cp38-cp38-manylinux1_x86_64.whl (10.2 MB)\n",
      "\u001b[K     |████████████████████████████████| 10.2 MB 16.6 MB/s eta 0:00:01.6 MB/s eta 0:00:01\n",
      "\u001b[?25hInstalling collected packages: pysam\n",
      "Successfully installed pysam-0.16.0.1\n",
      "Note: you may need to restart the kernel to use updated packages.\n"
     ]
    }
   ],
   "source": [
    "pip install pysam"
   ]
  },
  {
   "cell_type": "code",
   "execution_count": 148,
   "metadata": {},
   "outputs": [],
   "source": [
    "import pysam;\n",
    "samfile = pysam.AlignmentFile(\"merged-tumor.bam\", \"rb\")\n"
   ]
  },
  {
   "cell_type": "code",
   "execution_count": 149,
   "metadata": {},
   "outputs": [
    {
     "name": "stdout",
     "output_type": "stream",
     "text": [
      "<pysam.libcalignmentfile.AlignmentFile object at 0x7fb6ac0e6af0>\n",
      "['__class__', '__delattr__', '__dir__', '__doc__', '__enter__', '__eq__', '__exit__', '__format__', '__ge__', '__getattribute__', '__gt__', '__hash__', '__init__', '__init_subclass__', '__iter__', '__le__', '__lt__', '__ne__', '__new__', '__next__', '__pyx_vtable__', '__reduce__', '__reduce_ex__', '__repr__', '__setattr__', '__setstate__', '__sizeof__', '__str__', '__subclasshook__', '_open', 'add_hts_options', 'category', 'check_index', 'check_truncation', 'close', 'closed', 'compression', 'count', 'count_coverage', 'description', 'duplicate_filehandle', 'fetch', 'filename', 'find_introns', 'find_introns_slow', 'format', 'get_index_statistics', 'get_reference_length', 'get_reference_name', 'get_tid', 'getrname', 'gettid', 'has_index', 'head', 'header', 'index_filename', 'is_bam', 'is_bcf', 'is_closed', 'is_cram', 'is_open', 'is_read', 'is_remote', 'is_sam', 'is_stream', 'is_valid_reference_name', 'is_valid_tid', 'is_vcf', 'is_write', 'lengths', 'mapped', 'mate', 'mode', 'nocoordinate', 'nreferences', 'parse_region', 'pileup', 'reference_filename', 'references', 'reset', 'seek', 'tell', 'text', 'threads', 'unmapped', 'version', 'write']\n",
      "References: \n",
      "('1', '2', '3', '4', '5', '6', '7', '8', '9', '10', '11', '12', '13', '14', '15', '16', '17', '18', '19', '20', '21', '22', 'X', 'Y', 'MT', 'GL000207.1', 'GL000226.1', 'GL000229.1', 'GL000231.1', 'GL000210.1', 'GL000239.1', 'GL000235.1', 'GL000201.1', 'GL000247.1', 'GL000245.1', 'GL000197.1', 'GL000203.1', 'GL000246.1', 'GL000249.1', 'GL000196.1', 'GL000248.1', 'GL000244.1', 'GL000238.1', 'GL000202.1', 'GL000234.1', 'GL000232.1', 'GL000206.1', 'GL000240.1', 'GL000236.1', 'GL000241.1', 'GL000243.1', 'GL000242.1', 'GL000230.1', 'GL000237.1', 'GL000233.1', 'GL000204.1', 'GL000198.1', 'GL000208.1', 'GL000191.1', 'GL000227.1', 'GL000228.1', 'GL000214.1', 'GL000221.1', 'GL000209.1', 'GL000218.1', 'GL000220.1', 'GL000213.1', 'GL000211.1', 'GL000199.1', 'GL000217.1', 'GL000216.1', 'GL000215.1', 'GL000205.1', 'GL000219.1', 'GL000224.1', 'GL000223.1', 'GL000195.1', 'GL000212.1', 'GL000222.1', 'GL000200.1', 'GL000193.1', 'GL000194.1', 'GL000225.1', 'GL000192.1', 'NC_007605', 'hs37d5')\n"
     ]
    }
   ],
   "source": [
    "#AlignmentFile is printed, and also there are listed fields of the AlignmentFile object and also references from the same file\n",
    "print (samfile)\n",
    "print(dir(samfile))\n",
    "print(\"References: \")\n",
    "print(samfile.references)"
   ]
  },
  {
   "cell_type": "code",
   "execution_count": 150,
   "metadata": {},
   "outputs": [
    {
     "name": "stdout",
     "output_type": "stream",
     "text": [
      "First Read Information: \n",
      "C0HVYACXX120402:7:1207:5722:57044\t1187\t20\t9483248\t27\t76M\t20\t9483381\t76\tTTTTCAAACAGTATCTATGCCTGCCAAATGTGAACATATAAAAAAAAACCAGAATGTGCCATTCTGATTTAAACTG\tarray('B', [28, 28, 27, 29, 31, 30, 31, 31, 29, 31, 35, 30, 29, 31, 34, 30, 29, 23, 41, 32, 20, 30, 29, 34, 34, 29, 30, 31, 30, 30, 30, 33, 33, 26, 39, 12, 25, 19, 32, 30, 35, 28, 35, 33, 23, 33, 35, 36, 30, 38, 33, 41, 34, 35, 31, 33, 23, 30, 30, 36, 27, 32, 29, 34, 35, 41, 33, 31, 33, 29, 32, 32, 31, 31, 31, 34])\t[('XA', 'GL000217.1,-110754,76M,1;'), ('BD', 'NNNNNNNNNNNNNNNNNNNNNNNNNNNNNNNNNNNNNNNNNNNNNNNNNNNNNNNNNNNNNNNNNNNNNNNNNNNN'), ('MD', '76'), ('RG', '1'), ('BI', 'NNNNNNNNNNNNNNNNNNNNNNNNNNNNNNNNNNNNNNNNNNNNNNNNNNNNNNNNNNNNNNNNNNNNNNNNNNNN'), ('NM', 0), ('MQ', 27), ('AS', 76), ('XS', 71)]\n",
      "Type of read: \n",
      "<class 'pysam.libcalignedsegment.AlignedSegment'>\n",
      "Fields: \n",
      "['__class__', '__copy__', '__deepcopy__', '__delattr__', '__dir__', '__doc__', '__eq__', '__format__', '__ge__', '__getattribute__', '__gt__', '__hash__', '__init__', '__init_subclass__', '__le__', '__lt__', '__ne__', '__new__', '__pyx_vtable__', '__reduce__', '__reduce_ex__', '__repr__', '__setattr__', '__setstate__', '__sizeof__', '__str__', '__subclasshook__', 'aend', 'alen', 'aligned_pairs', 'bin', 'blocks', 'cigar', 'cigarstring', 'cigartuples', 'compare', 'flag', 'from_dict', 'fromstring', 'get_aligned_pairs', 'get_blocks', 'get_cigar_stats', 'get_forward_qualities', 'get_forward_sequence', 'get_overlap', 'get_reference_positions', 'get_reference_sequence', 'get_tag', 'get_tags', 'has_tag', 'header', 'infer_query_length', 'infer_read_length', 'inferred_length', 'is_duplicate', 'is_paired', 'is_proper_pair', 'is_qcfail', 'is_read1', 'is_read2', 'is_reverse', 'is_secondary', 'is_supplementary', 'is_unmapped', 'isize', 'mapping_quality', 'mapq', 'mate_is_reverse', 'mate_is_unmapped', 'mpos', 'mrnm', 'next_reference_id', 'next_reference_name', 'next_reference_start', 'opt', 'overlap', 'pnext', 'pos', 'positions', 'qend', 'qlen', 'qname', 'qqual', 'qstart', 'qual', 'query', 'query_alignment_end', 'query_alignment_length', 'query_alignment_qualities', 'query_alignment_sequence', 'query_alignment_start', 'query_length', 'query_name', 'query_qualities', 'query_sequence', 'reference_end', 'reference_id', 'reference_length', 'reference_name', 'reference_start', 'rlen', 'rname', 'rnext', 'seq', 'setTag', 'set_tag', 'set_tags', 'tags', 'template_length', 'tid', 'tlen', 'to_dict', 'to_string', 'tostring']\n",
      "Flag field: \n",
      "1187\n",
      "Read: \n",
      "C0HVYACXX120402:7:2104:3109:85401\t163\t20\t9483269\t27\t76M\t20\t9483313\t76\tTGCCAAATGTGAACATATAAAAAAAAACCAGAATGTGCCATTCTGATTTAAACTGCTTATTAGTTAAAACCCTCAA\tarray('B', [28, 22, 28, 32, 30, 33, 34, 32, 40, 31, 39, 31, 35, 41, 33, 33, 29, 33, 29, 35, 34, 34, 34, 35, 34, 34, 35, 41, 34, 33, 40, 34, 36, 33, 41, 33, 41, 40, 38, 33, 34, 34, 42, 36, 40, 34, 33, 34, 34, 31, 35, 37, 41, 36, 41, 40, 38, 34, 33, 33, 34, 31, 42, 33, 33, 32, 35, 36, 35, 39, 37, 35, 32, 31, 31, 32])\t[('XA', 'GL000217.1,-110733,76M,1;'), ('BD', 'NNNNNNNNNNNNNNNNNNNNNNNNNNNNNNNNNNNNNNNNNNNNNNNNNNNNNNNNNNNNNNNNNNNNNNNNNNNN'), ('MD', '76'), ('RG', '1'), ('BI', 'NNNNNNNNNNNNNNNNNNNNNNNNNNNNNNNNNNNNNNNNNNNNNNNNNNNNNNNNNNNNNNNNNNNNNNNNNNNN'), ('NM', 0), ('MQ', 27), ('AS', 76), ('XS', 71)]\n",
      "Flag: \n",
      "163\n",
      "Read: \n",
      "C0HVYACXX120402:3:1307:14105:43830\t99\t20\t9483278\t27\t76M\t20\t9483391\t76\tTGAACATATAAAAAAAAACCAGAATGTGCCATTCTGATTTAAACTGCTTATTAGTTAAAACCCTCAAGATAACATC\tarray('B', [32, 30, 30, 33, 36, 35, 31, 33, 30, 31, 36, 36, 36, 36, 36, 36, 36, 36, 40, 36, 34, 40, 34, 37, 31, 41, 31, 39, 40, 37, 35, 31, 35, 42, 36, 42, 33, 32, 34, 34, 32, 37, 37, 41, 36, 41, 39, 36, 34, 32, 33, 35, 32, 41, 31, 35, 32, 37, 37, 35, 41, 38, 37, 37, 38, 33, 37, 38, 32, 31, 31, 33, 35, 30, 31, 35])\t[('XA', 'GL000217.1,-110724,76M,1;'), ('BD', 'NNNNNNNNNNNNNNNNNNNNNNNNNNNNNNNNNNNNNNNNNNNNNNNNNNNNNNNNNNNNNNNNNNNNNNNNNNNN'), ('MD', '76'), ('RG', '1'), ('BI', 'NNNNNNNNNNNNNNNNNNNNNNNNNNNNNNNNNNNNNNNNNNNNNNNNNNNNNNNNNNNNNNNNNNNNNNNNNNNN'), ('NM', 0), ('MQ', 27), ('AS', 76), ('XS', 71)]\n",
      "Flag: \n",
      "99\n",
      "Read: \n",
      "D0RH0ACXX120402:2:1204:11849:26816\t163\t20\t9483292\t27\t76M\t20\t9483468\t76\tAAAACCAGAATGTGCCATTCTGATTTAAACTGCTTATTAGTTAAAACCCTCAAGATAACATCTGGGTTCTTAGCTG\tarray('B', [28, 26, 27, 31, 31, 34, 30, 40, 31, 34, 33, 39, 33, 41, 40, 38, 33, 33, 33, 41, 37, 40, 32, 33, 33, 34, 29, 35, 34, 40, 36, 40, 39, 36, 34, 31, 34, 34, 29, 41, 33, 33, 31, 35, 37, 35, 40, 38, 38, 36, 38, 34, 37, 41, 34, 33, 31, 36, 41, 34, 33, 41, 36, 40, 38, 37, 32, 35, 41, 37, 34, 31, 35, 31, 31, 36])\t[('XA', 'GL000217.1,-110710,76M,1;'), ('BD', 'NNNNNNNNNNNNNNNNNNNNNNNNNNNNNNNNNNNNNNNNNNNNNNNNNNNNNNNNNNNNNNNNNNNNNNNNNNNN'), ('MD', '76'), ('RG', '1'), ('BI', 'NNNNNNNNNNNNNNNNNNNNNNNNNNNNNNNNNNNNNNNNNNNNNNNNNNNNNNNNNNNNNNNNNNNNNNNNNNNN'), ('NM', 0), ('MQ', 27), ('AS', 76), ('XS', 71)]\n",
      "Flag: \n",
      "163\n"
     ]
    }
   ],
   "source": [
    "#First read from the AlignmentFile is taken and there are listed fields of the AlignmentSegment object\n",
    "i = 0;\n",
    "firstRead = None;\n",
    "for read in samfile:\n",
    "    if (i==0):\n",
    "        firstRead = read;\n",
    "        break\n",
    "\n",
    "print(\"First Read Information: \");\n",
    "print(firstRead);\n",
    "print(\"Type of read: \");\n",
    "print(type(read));\n",
    "print(\"Fields: \");\n",
    "print(dir(read));\n",
    "print(\"Flag field: \")\n",
    "print(read.flag)\n",
    "#in this example 1187 means read paired (0x1), read mapped in proper pair(0x2), second in pair(0x80), mate reverse strand (0x20), read is PCR or optical duplicate(0x400)\n",
    "\n",
    "#Checked out the flag for some reads\n",
    "reads = samfile\n",
    "cnt = 0;\n",
    "for read in reads: \n",
    "    if (cnt == 4 or cnt == 5 or cnt == 12):\n",
    "        print(\"Read: \")\n",
    "        print(read)\n",
    "        print(\"Flag: \")\n",
    "        print(read.flag)\n",
    "        if (cnt == 12):\n",
    "            break;\n",
    "    cnt+=1;\n",
    "\n",
    "#99 explained: read is paired, read is mapped in proper pair, mate reverse strand, read is from the first pair\n",
    "#163 explained: read is paired, read is mapped in proper pair, mate reverse strand, read is from the second pair\n",
    "#there are a lot of tools that give the appropriate meaning to the typed flag. For example: http://www.cbs.dtu.dk/~dhany/flag_converter.html"
   ]
  },
  {
   "cell_type": "code",
   "execution_count": 151,
   "metadata": {},
   "outputs": [
    {
     "name": "stdout",
     "output_type": "stream",
     "text": [
      "Total number of reads: \n",
      "2921615\n",
      "Number of unmapped reads in file: \n",
      "17765\n",
      "Number of reads with mapping quality 0: \n",
      "126628\n",
      "Sum of mapping qualities for all the reads: \n",
      "163358953\n",
      "Average mapping quality for all the reads: \n",
      "55.913921923319805\n",
      "Average mapping quality if reads with 0 mapping quality are filtered out: \n",
      "1290.0697555043118\n"
     ]
    }
   ],
   "source": [
    "#How many unmapped reads are in the file? Total numbers of reads? Number of reads with mapping quality 0?\n",
    "reads = samfile\n",
    "totalNumberOfReads = 0;\n",
    "numberOfUnmappedReads = 0;\n",
    "numberOfReadsWithMappingQualityZero = 0;\n",
    "\n",
    "#Average mapping quality for all the reads\n",
    "sumOfMappingQualities = 0;\n",
    "averageMappingQualityForAll = 0;\n",
    "\n",
    "#Average mapping quality excluding ones with 0 mapping quality\n",
    "averageMappingQualityWithoutZeroMappingQualities = 0;\n",
    "\n",
    "for read in reads:\n",
    "    sumOfMappingQualities+=read.mapping_quality;\n",
    "    totalNumberOfReads+=1;\n",
    "    if (read.is_unmapped):\n",
    "        numberOfUnmappedReads+=1;\n",
    "    if (read.mapping_quality == 0):\n",
    "        numberOfReadsWithMappingQualityZero+=1;\n",
    "        \n",
    "print(\"Total number of reads: \")\n",
    "print(totalNumberOfReads)\n",
    "print(\"Number of unmapped reads in file: \")\n",
    "print(numberOfUnmappedReads)\n",
    "print(\"Number of reads with mapping quality 0: \")\n",
    "print(numberOfReadsWithMappingQualityZero)\n",
    "print(\"Sum of mapping qualities for all the reads: \")\n",
    "print(sumOfMappingQualities)\n",
    "averageMappingQualityForAll = sumOfMappingQualities/totalNumberOfReads;\n",
    "print(\"Average mapping quality for all the reads: \")\n",
    "print(averageMappingQualityForAll)\n",
    "averageMappingQualityWithoutZeroMappingQualities = sumOfMappingQualities/numberOfReadsWithMappingQualityZero;\n",
    "print(\"Average mapping quality if reads with 0 mapping quality are filtered out: \")\n",
    "print(averageMappingQualityWithoutZeroMappingQualities)\n"
   ]
  }
 ],
 "metadata": {
  "kernelspec": {
   "display_name": "Python 3",
   "language": "python",
   "name": "python3"
  },
  "language_info": {
   "codemirror_mode": {
    "name": "ipython",
    "version": 3
   },
   "file_extension": ".py",
   "mimetype": "text/x-python",
   "name": "python",
   "nbconvert_exporter": "python",
   "pygments_lexer": "ipython3",
   "version": "3.8.3"
  }
 },
 "nbformat": 4,
 "nbformat_minor": 4
}
